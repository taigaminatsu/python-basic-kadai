{
  "nbformat": 4,
  "nbformat_minor": 0,
  "metadata": {
    "colab": {
      "provenance": []
    },
    "kernelspec": {
      "name": "python3",
      "display_name": "Python 3"
    },
    "language_info": {
      "name": "python"
    }
  },
  "cells": [
    {
      "cell_type": "code",
      "execution_count": 9,
      "metadata": {
        "id": "ieDSgDmR8zIL",
        "colab": {
          "base_uri": "https://localhost:8080/"
        },
        "outputId": "ceec4eb7-1887-4ce0-f867-496f23528bd6"
      },
      "outputs": [
        {
          "output_type": "stream",
          "name": "stdout",
          "text": [
            "いさみは成人です\n",
            "すみすは成人です\n",
            "るるは未成年です\n",
            "ぶれいばーんは未成年です\n"
          ]
        }
      ],
      "source": [
        "class Human:\n",
        "    def __init__(self,name,age):\n",
        "        # 属性を定義する\n",
        "        self.name = name\n",
        "        self.age = age\n",
        "\n",
        "        #メソッドを定義する\n",
        "    def check_adult(self,age):\n",
        "        if age >= 20:\n",
        "            print(f\"{self.name}は成人です\")\n",
        "        else:\n",
        "            print(f\"{self.name}は未成年です\")\n",
        "\n",
        "        #インスタンス化\n",
        "Human1 = Human(\"いさみ\",24)\n",
        "Human2 = Human(\"すみす\",24)\n",
        "Human3 = Human(\"るる\",1)\n",
        "human4 = Human(\"ぶれいばーん\",10)\n",
        "\n",
        "#インスタンスをリスト化\n",
        "Humans = [Human1,Human2,Human3,human4]\n",
        "\n",
        "#check_adultメソッドを実行\n",
        "for human in Humans:\n",
        "    human.check_adult(human.age)\n",
        "\n"
      ]
    }
  ]
}