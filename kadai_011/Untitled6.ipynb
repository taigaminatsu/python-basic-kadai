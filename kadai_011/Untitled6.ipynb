{
  "nbformat": 4,
  "nbformat_minor": 0,
  "metadata": {
    "colab": {
      "provenance": []
    },
    "kernelspec": {
      "name": "python3",
      "display_name": "Python 3"
    },
    "language_info": {
      "name": "python"
    }
  },
  "cells": [
    {
      "cell_type": "markdown",
      "source": [
        "リストの中身を先頭から全て取り出して、出力結果が以下のようになるプログラムを、for、whileで２回繰り返す。\n",
        "\n",
        "```\n",
        "array = [\"水\",\"金\",\"地\",\"火\",\"木\",\"土\",\"天\",\"海\",\"冥\"]\n",
        "```\n",
        "出力結果\n",
        "\n",
        "水\n",
        "金\n",
        "地\n",
        "火\n",
        "木\n",
        "土\n",
        "天\n",
        "海\n",
        "冥\n",
        "水\n",
        "金\n",
        "地\n",
        "火\n",
        "木\n",
        "土\n",
        "天\n",
        "海\n",
        "冥\n",
        "\n",
        "Copy\n",
        "\n",
        "合格基準\n",
        "本課題の目標は、課題を通して以下の項目が身についているかどうか確認することです。\n",
        "\n",
        "Pythonで繰り返し構文（for / while）のプログラムが書けるようになること。\n",
        "forとwhileの違いを理解すること。\n",
        "そのため、以下の項目がすべて満たされていれば合格です。\n",
        "\n",
        "番号\t合格基準\n",
        "1\tforを用いて繰り返し処理が記述されている\n",
        "2\twhileを用いて繰り返し処理が記述されている\n",
        "\n",
        "\n"
      ],
      "metadata": {
        "id": "JjHkRS79t3Yu"
      }
    },
    {
      "cell_type": "code",
      "execution_count": 25,
      "metadata": {
        "colab": {
          "base_uri": "https://localhost:8080/"
        },
        "id": "072Dcb5vQSXX",
        "outputId": "8b705395-8bbf-48b3-c602-b688a4a15400"
      },
      "outputs": [
        {
          "output_type": "stream",
          "name": "stdout",
          "text": [
            "水\n",
            "金\n",
            "地\n",
            "火\n",
            "木\n",
            "土\n",
            "天\n",
            "海\n",
            "冥\n",
            "水\n",
            "金\n",
            "地\n",
            "火\n",
            "木\n",
            "土\n",
            "天\n",
            "海\n",
            "冥\n"
          ]
        }
      ],
      "source": [
        "array = [\"水\",\"金\",\"地\",\"火\",\"木\",\"土\",\"天\",\"海\",\"冥\"]\n",
        "\n",
        "#forを使って\n",
        "for i in array:\n",
        "    print(i)\n",
        "\n",
        "#whileを使って\n",
        "while array :\n",
        "    print(array.pop(0))\n"
      ]
    },
    {
      "cell_type": "code",
      "source": [],
      "metadata": {
        "id": "ez7blQRstw3u"
      },
      "execution_count": null,
      "outputs": []
    }
  ]
}