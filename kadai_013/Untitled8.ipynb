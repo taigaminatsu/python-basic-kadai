{
  "nbformat": 4,
  "nbformat_minor": 0,
  "metadata": {
    "colab": {
      "provenance": []
    },
    "kernelspec": {
      "name": "python3",
      "display_name": "Python 3"
    },
    "language_info": {
      "name": "python"
    }
  },
  "cells": [
    {
      "cell_type": "code",
      "execution_count": 2,
      "metadata": {
        "colab": {
          "base_uri": "https://localhost:8080/"
        },
        "id": "ty8MUSQGTR3F",
        "outputId": "74ca8da5-b751-46d7-b1f7-9a8da3ad2404"
      },
      "outputs": [
        {
          "output_type": "stream",
          "name": "stdout",
          "text": [
            "110.0円\n"
          ]
        }
      ],
      "source": [
        "#消費税を加えた合計を算出し、その値を出力する関数を定義する\n",
        "def total_price(price, tax):\n",
        "    #消費税の計算\n",
        "    tax=price*0.1\n",
        "    #合計の計算\n",
        "    total=price+tax\n",
        "    #合計を出力\n",
        "    print(f\"{total}円\")\n",
        "\n",
        "\n",
        "total_price(100,0)"
      ]
    }
  ]
}