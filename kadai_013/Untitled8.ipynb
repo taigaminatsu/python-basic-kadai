{
  "nbformat": 4,
  "nbformat_minor": 0,
  "metadata": {
    "colab": {
      "provenance": []
    },
    "kernelspec": {
      "name": "python3",
      "display_name": "Python 3"
    },
    "language_info": {
      "name": "python"
    }
  },
  "cells": [
    {
      "cell_type": "code",
      "execution_count": 7,
      "metadata": {
        "colab": {
          "base_uri": "https://localhost:8080/"
        },
        "id": "ty8MUSQGTR3F",
        "outputId": "18d646ca-7aea-4f3f-bf73-5fb59fedc04a"
      },
      "outputs": [
        {
          "output_type": "execute_result",
          "data": {
            "text/plain": [
              "110.0"
            ]
          },
          "metadata": {},
          "execution_count": 7
        }
      ],
      "source": [
        "#消費税を加えた合計を算出し、その値を出力する関数を定義する\n",
        "def total_price(price, tax):\n",
        "    #合計の計算\n",
        "    return price+(price*tax/100)\n",
        "\n",
        "\n",
        "total_price(100,10)"
      ]
    }
  ]
}