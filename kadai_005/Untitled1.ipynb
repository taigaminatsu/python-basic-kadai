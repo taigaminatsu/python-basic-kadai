{
  "nbformat": 4,
  "nbformat_minor": 0,
  "metadata": {
    "colab": {
      "provenance": []
    },
    "kernelspec": {
      "name": "python3",
      "display_name": "Python 3"
    },
    "language_info": {
      "name": "python"
    }
  },
  "cells": [
    {
      "cell_type": "code",
      "execution_count": 1,
      "metadata": {
        "colab": {
          "base_uri": "https://localhost:8080/"
        },
        "id": "PmjlLw18q0y0",
        "outputId": "7396205d-7a30-4177-f881-90c0033917cb"
      },
      "outputs": [
        {
          "output_type": "stream",
          "name": "stdout",
          "text": [
            "75.0cm²\n"
          ]
        }
      ],
      "source": [
        "top=10\n",
        "under=20\n",
        "hight=5\n",
        "\n",
        "area=(top+under)*5/2\n",
        "\n",
        "print(str(area)+\"cm²\")"
      ]
    }
  ]
}