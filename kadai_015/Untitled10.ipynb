{
  "nbformat": 4,
  "nbformat_minor": 0,
  "metadata": {
    "colab": {
      "provenance": []
    },
    "kernelspec": {
      "name": "python3",
      "display_name": "Python 3"
    },
    "language_info": {
      "name": "python"
    }
  },
  "cells": [
    {
      "cell_type": "code",
      "execution_count": 10,
      "metadata": {
        "colab": {
          "base_uri": "https://localhost:8080/"
        },
        "id": "lniul6t-b6FI",
        "outputId": "3de57f02-2ba3-4d84-f3e8-27c2475450ed"
      },
      "outputs": [
        {
          "output_type": "stream",
          "name": "stdout",
          "text": [
            "名前: Taro\n",
            "年齢: 20\n"
          ]
        }
      ],
      "source": [
        "class Human:\n",
        "    def __init__(self,name,age):\n",
        "        # 属性を定義する\n",
        "        self.name = name\n",
        "        self.age = age\n",
        "\n",
        "        #メソッドを定義する\n",
        "    def set_name(self, name):\n",
        "        self.name = name\n",
        "\n",
        "    def set_age(self, age):\n",
        "        self.age = age\n",
        "\n",
        "    def printinfo(self):\n",
        "        print(\"名前:\",self.name)\n",
        "        print(\"年齢:\",self.age)\n",
        "\n",
        "#インスタンス化\n",
        "Human  = Human(\"Taro\",20)\n",
        "\n",
        "Human.printinfo()\n",
        "\n",
        "\n"
      ]
    }
  ]
}