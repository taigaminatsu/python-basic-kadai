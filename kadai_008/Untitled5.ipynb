{
  "nbformat": 4,
  "nbformat_minor": 0,
  "metadata": {
    "colab": {
      "provenance": []
    },
    "kernelspec": {
      "name": "python3",
      "display_name": "Python 3"
    },
    "language_info": {
      "name": "python"
    }
  },
  "cells": [
    {
      "cell_type": "code",
      "execution_count": 3,
      "metadata": {
        "colab": {
          "base_uri": "https://localhost:8080/"
        },
        "id": "al9mbfjCNIGB",
        "outputId": "8f8e7cfa-cf4e-49a3-d515-4833397d4071"
      },
      "outputs": [
        {
          "output_type": "stream",
          "name": "stdout",
          "text": [
            "12\n",
            "Fizz\n"
          ]
        }
      ],
      "source": [
        "import random\n",
        "\n",
        "var = random.randint(1, 100)\n",
        "\n",
        "print(var)\n",
        "\n",
        "if var %3 ==0:\n",
        "    print(\"Fizz\")\n",
        "elif var %5 ==0:\n",
        "    print(\"Buzz\")\n",
        "\n",
        "elif var %3 ==0 and var %5 ==0:\n",
        "    print(\"FizzBuzz\")\n",
        "else:\n",
        "    print(var)\n",
        "\n",
        "\n"
      ]
    }
  ]
}