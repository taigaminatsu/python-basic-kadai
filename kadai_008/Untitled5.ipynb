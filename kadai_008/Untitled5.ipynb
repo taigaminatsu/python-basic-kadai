{
  "nbformat": 4,
  "nbformat_minor": 0,
  "metadata": {
    "colab": {
      "provenance": []
    },
    "kernelspec": {
      "name": "python3",
      "display_name": "Python 3"
    },
    "language_info": {
      "name": "python"
    }
  },
  "cells": [
    {
      "cell_type": "code",
      "execution_count": 36,
      "metadata": {
        "colab": {
          "base_uri": "https://localhost:8080/"
        },
        "id": "al9mbfjCNIGB",
        "outputId": "9545dcb1-64c5-46da-bb4e-4d8254108006"
      },
      "outputs": [
        {
          "output_type": "stream",
          "name": "stdout",
          "text": [
            "19\n",
            "19\n"
          ]
        }
      ],
      "source": [
        "import random\n",
        "\n",
        "var = random.randint(1, 100)\n",
        "\n",
        "print(var)\n",
        "\n",
        "if var %3 ==0 and var %5 ==0:\n",
        "    print(\"FizzBuzz\")\n",
        "\n",
        "elif var %3 ==0:\n",
        "    print(\"Fizz\")\n",
        "\n",
        "elif var %5 ==0:\n",
        "    print(\"Buzz\")\n",
        "\n",
        "else:\n",
        "    print(var)\n",
        "\n",
        "\n"
      ]
    }
  ]
}